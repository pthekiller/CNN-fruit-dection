{
 "cells": [
  {
   "cell_type": "code",
   "execution_count": 50,
   "metadata": {},
   "outputs": [],
   "source": [
    "import tensorflow as tf\n",
    "import matplotlib.pyplot as plt\n",
    "import seaborn as sns\n",
    "import pandas as pd\n",
    "import numpy as np"
   ]
  },
  {
   "cell_type": "code",
   "execution_count": 51,
   "metadata": {},
   "outputs": [
    {
     "name": "stdout",
     "output_type": "stream",
     "text": [
      "[PhysicalDevice(name='/physical_device:CPU:0', device_type='CPU')]\n"
     ]
    }
   ],
   "source": [
    "print(tf.config.list_physical_devices('CPU'))"
   ]
  },
  {
   "cell_type": "code",
   "execution_count": 52,
   "metadata": {},
   "outputs": [
    {
     "name": "stdout",
     "output_type": "stream",
     "text": [
      "Found 3115 files belonging to 36 classes.\n"
     ]
    }
   ],
   "source": [
    "training_set = tf.keras.utils.image_dataset_from_directory(\n",
    "    'train',\n",
    "    labels=\"inferred\",\n",
    "    label_mode='categorical',\n",
    "    class_names=None,\n",
    "    color_mode='rgb',\n",
    "    batch_size=32,\n",
    "    image_size=(64, 64),\n",
    "    shuffle=True,\n",
    "    seed=None,\n",
    "    validation_split=None,\n",
    "    subset=None,\n",
    "    interpolation='bilinear',\n",
    "    follow_links=False,\n",
    "    crop_to_aspect_ratio=False\n",
    ")"
   ]
  },
  {
   "cell_type": "code",
   "execution_count": 53,
   "metadata": {},
   "outputs": [
    {
     "name": "stdout",
     "output_type": "stream",
     "text": [
      "Wed Jan  1 17:12:01 2025       \n",
      "+-----------------------------------------------------------------------------------------+\n",
      "| NVIDIA-SMI 560.76                 Driver Version: 560.76         CUDA Version: 12.6     |\n",
      "|-----------------------------------------+------------------------+----------------------+\n",
      "| GPU  Name                  Driver-Model | Bus-Id          Disp.A | Volatile Uncorr. ECC |\n",
      "| Fan  Temp   Perf          Pwr:Usage/Cap |           Memory-Usage | GPU-Util  Compute M. |\n",
      "|                                         |                        |               MIG M. |\n",
      "|=========================================+========================+======================|\n",
      "|   0  Quadro P3200                 WDDM  |   00000000:01:00.0 Off |                  N/A |\n",
      "| N/A   52C    P8              9W /   70W |    5017MiB /   6144MiB |     19%      Default |\n",
      "|                                         |                        |                  N/A |\n",
      "+-----------------------------------------+------------------------+----------------------+\n",
      "                                                                                         \n",
      "+-----------------------------------------------------------------------------------------+\n",
      "| Processes:                                                                              |\n",
      "|  GPU   GI   CI        PID   Type   Process name                              GPU Memory |\n",
      "|        ID   ID                                                               Usage      |\n",
      "|=========================================================================================|\n",
      "|    0   N/A  N/A      1508    C+G   D:\\overwolf\\Overwolf.exe                    N/A      |\n",
      "|    0   N/A  N/A      5192    C+G   ...4.12.2\\plugins\\capture\\ZaloCall.exe      N/A      |\n",
      "|    0   N/A  N/A      5488    C+G   ....Search_cw5n1h2txyewy\\SearchApp.exe      N/A      |\n",
      "|    0   N/A  N/A      8404    C+G   ...Programs\\Zalo\\Zalo-24.12.2\\Zalo.exe      N/A      |\n",
      "|    0   N/A  N/A     10328    C+G   ...2txyewy\\StartMenuExperienceHost.exe      N/A      |\n",
      "|    0   N/A  N/A     10568      C   ...s\\ADM\\miniconda3\\envs\\tf\\python.exe      N/A      |\n",
      "|    0   N/A  N/A     12340    C+G   ...CBS_cw5n1h2txyewy\\TextInputHost.exe      N/A      |\n",
      "|    0   N/A  N/A     14204    C+G   ...wolf\\0.266.1.26\\OverwolfBrowser.exe      N/A      |\n",
      "|    0   N/A  N/A     16948    C+G   ...Programs\\Microsoft VS Code\\Code.exe      N/A      |\n",
      "|    0   N/A  N/A     17108    C+G   ..._8wekyb3d8bbwe\\PaintStudio.View.exe      N/A      |\n",
      "+-----------------------------------------------------------------------------------------+\n"
     ]
    }
   ],
   "source": [
    "!nvidia-smi"
   ]
  },
  {
   "cell_type": "code",
   "execution_count": 54,
   "metadata": {},
   "outputs": [
    {
     "name": "stdout",
     "output_type": "stream",
     "text": [
      "Found 351 files belonging to 36 classes.\n"
     ]
    }
   ],
   "source": [
    "\n",
    "validation_set = tf.keras.utils.image_dataset_from_directory(\n",
    "    'validation',\n",
    "    labels=\"inferred\",\n",
    "    label_mode=\"categorical\",\n",
    "    class_names=None,\n",
    "    color_mode=\"rgb\",\n",
    "    batch_size=32,\n",
    "    image_size=(64, 64),\n",
    "    shuffle=True,\n",
    "    seed=None,\n",
    "    validation_split=None,\n",
    "    subset=None,\n",
    "    interpolation=\"bilinear\",\n",
    "    follow_links=False,\n",
    "    crop_to_aspect_ratio=False\n",
    ")"
   ]
  },
  {
   "cell_type": "code",
   "execution_count": 55,
   "metadata": {},
   "outputs": [],
   "source": [
    "cnn = tf.keras.models.Sequential()\n"
   ]
  },
  {
   "cell_type": "code",
   "execution_count": 56,
   "metadata": {},
   "outputs": [],
   "source": [
    "cnn.add(tf.keras.layers.Conv2D(filters=32,kernel_size=3,padding='same',activation='relu',input_shape=[64,64,3]))\n",
    "cnn.add(tf.keras.layers.Conv2D(filters=32,kernel_size=3,activation='relu'))\n",
    "cnn.add(tf.keras.layers.MaxPool2D(pool_size=2,strides=2))"
   ]
  },
  {
   "cell_type": "markdown",
   "metadata": {},
   "source": [
    "# Lớp Conv2D:\n",
    "\n",
    "+ filters=32: Số lượng “kênh đầu ra” (hay số kernel/filter) là 32. Mỗi kernel sẽ học một đặc trưng khác nhau từ ảnh.\n",
    "+ kernel_size=3: Kích thước của kernel (hay “cửa sổ lọc”) là 3×3.\n",
    "+ padding='same': Kích thước đầu ra theo chiều rộng, chiều cao sẽ được giữ nguyên so với đầu vào (64x64). Điều này có nghĩa là Keras sẽ tự động thêm 0-padding xung quanh nếu cần, để đảm bảo kích thước không đổi.\n",
    "+ activation='relu': Hàm kích hoạt ReLU (Rectified Linear Unit) giúp mạng học được các đặc trưng phi tuyến, ngăn gradient mất mát khi lan truyền ngược và hoạt động tốt trong hầu hết các mô hình CNN.\n",
    "+ input_shape=[64,64,3]: Kích thước đầu vào của ảnh. Ảnh có chiều rộng 64, chiều cao 64 và 3 kênh màu (RGB).\n",
    "\n",
    "Tóm lại, lớp Conv2D này có nhiệm vụ quét qua ảnh đầu vào (hoặc đầu ra của lớp trước, nếu có) để tìm các đặc trưng như đường biên, góc cạnh, chi tiết,... Số filters càng lớn thì mạng học được càng nhiều loại đặc trưng khác nhau, nhưng đồng thời cũng tốn tài nguyên tính toán hơn.\n",
    "\n"
   ]
  },
  {
   "cell_type": "markdown",
   "metadata": {},
   "source": [
    "# Lớp Conv2D tiếp theo:\n",
    "\n",
    "+ filters=32: Tiếp tục sử dụng 32 filters. \n",
    "+ kernel_size=3: Vẫn là kích thước 3×3. \n",
    "+ activation='relu': Sử dụng cùng hàm kích hoạt ReLU.\n",
    "\n",
    "Lớp này nối tiếp lớp Conv2D trước đó, giúp mạng học thêm những đặc trưng phức tạp hơn. Lưu ý ở lớp này không có tham số padding='same', nếu không được chỉ rõ thì mặc định là padding='valid' (trong Keras), dẫn đến kích thước đầu ra sau phép tích chập có thể bị giảm bớt một ít so với đầu vào (tuỳ theo cấu hình)."
   ]
  },
  {
   "cell_type": "markdown",
   "metadata": {},
   "source": [
    "# Lớp Max Pooling:\n",
    "\n",
    "+ pool_size=2: Kích thước cửa sổ pooling là 2×2. \n",
    "Điều này có nghĩa là chúng ta lấy giá trị lớn nhất của từng vùng 2×2 trong ma trận đặc trưng.\n",
    "+ strides=2: “Bước nhảy” = 2, tức là sau mỗi lần lấy giá trị lớn nhất của vùng 2×2, cửa sổ lại nhảy tiếp 2 pixel sang bên (hoặc xuống dưới) để lấy vùng kế tiếp. Việc này làm giảm một nửa chiều rộng và chiều cao của feature map.\n",
    "\n",
    "Mục đích của Max Pooling là giảm kích thước không gian (spatial dimension) của đặc trưng, đồng thời giữ lại thông tin quan trọng nhất (giá trị lớn nhất). Kỹ thuật này giúp giảm số lượng tham số, giảm hiện tượng overfitting, tăng tốc độ huấn luyện và vẫn giữ được những đặc trưng quan trọng trong ảnh."
   ]
  },
  {
   "cell_type": "markdown",
   "metadata": {},
   "source": [
    "# Dropout\n",
    "Dropout trong mạng CNN (Convolutional Neural Network) là một kỹ thuật regularization (chống overfitting) được giới thiệu nhằm giảm thiểu tình trạng mạng học “quá khớp” (overfit) với dữ liệu huấn luyện.\n",
    "\n",
    "Cụ thể, trong quá trình huấn luyện, Dropout sẽ ngẫu nhiên “tắt bớt” một số nơ-ron (tức là đưa các đầu ra của chúng về 0) ở một lớp nhất định với một xác suất p nào đó (ví dụ: 0.2, 0.3,...). Mục đích chính của việc này là:\n",
    "\n",
    "Giảm sự phụ thuộc lẫn nhau giữa các nơ-ron: Khi một số nơ-ron bị loại bỏ ngẫu nhiên, mạng buộc phải dựa trên nhiều đặc trưng khác nhau thay vì quá phụ thuộc vào một nhóm nơ-ron nhất định.\n",
    "\n",
    "Tăng tính khái quát: Mạng sẽ học được nhiều mẫu (pattern) tổng quát hơn, giúp mô hình có khả năng dự đoán tốt trên dữ liệu mới thay vì chỉ nhớ máy móc dữ liệu huấn luyện.\n",
    "\n",
    "Sau khi huấn luyện (ở bước suy luận - inference), chúng ta thường tắt Dropout (nghĩa là không áp dụng việc tắt nơ-ron ngẫu nhiên nữa) và sử dụng đầy đủ tất cả các tham số của mạng để dự báo kết quả."
   ]
  },
  {
   "cell_type": "code",
   "execution_count": 57,
   "metadata": {},
   "outputs": [],
   "source": [
    "cnn.add(tf.keras.layers.Dropout(0.25))"
   ]
  },
  {
   "cell_type": "code",
   "execution_count": 58,
   "metadata": {},
   "outputs": [],
   "source": [
    "cnn.add(tf.keras.layers.Conv2D(filters=64,kernel_size=3,padding='same',activation='relu'))\n",
    "cnn.add(tf.keras.layers.Conv2D(filters=64,kernel_size=3,activation='relu'))\n",
    "cnn.add(tf.keras.layers.MaxPool2D(pool_size=2,strides=2))"
   ]
  },
  {
   "cell_type": "code",
   "execution_count": 59,
   "metadata": {},
   "outputs": [],
   "source": [
    "cnn.add(tf.keras.layers.Dropout(0.25))"
   ]
  },
  {
   "cell_type": "code",
   "execution_count": 60,
   "metadata": {},
   "outputs": [],
   "source": [
    "cnn.add(tf.keras.layers.Flatten())"
   ]
  },
  {
   "cell_type": "code",
   "execution_count": 61,
   "metadata": {},
   "outputs": [],
   "source": [
    "cnn.add(tf.keras.layers.Dense(units=512,activation='relu'))\n"
   ]
  },
  {
   "cell_type": "code",
   "execution_count": 62,
   "metadata": {},
   "outputs": [],
   "source": [
    "cnn.add(tf.keras.layers.Dense(units=256,activation='relu'))"
   ]
  },
  {
   "cell_type": "code",
   "execution_count": 63,
   "metadata": {},
   "outputs": [],
   "source": [
    "cnn.add(tf.keras.layers.Dropout(0.5)) #To avoid overfitting"
   ]
  },
  {
   "cell_type": "code",
   "execution_count": 64,
   "metadata": {},
   "outputs": [],
   "source": [
    "\n",
    "#Output Layer\n",
    "cnn.add(tf.keras.layers.Dense(units=36,activation='softmax'))"
   ]
  },
  {
   "cell_type": "markdown",
   "metadata": {},
   "source": [
    "compiling"
   ]
  },
  {
   "cell_type": "code",
   "execution_count": 65,
   "metadata": {},
   "outputs": [],
   "source": [
    "cnn.compile(optimizer='adam',loss='categorical_crossentropy',metrics=['accuracy'])\n"
   ]
  },
  {
   "cell_type": "code",
   "execution_count": 66,
   "metadata": {},
   "outputs": [
    {
     "name": "stdout",
     "output_type": "stream",
     "text": [
      "Model: \"sequential_3\"\n",
      "_________________________________________________________________\n",
      " Layer (type)                Output Shape              Param #   \n",
      "=================================================================\n",
      " conv2d_10 (Conv2D)          (None, 64, 64, 32)        896       \n",
      "                                                                 \n",
      " conv2d_11 (Conv2D)          (None, 62, 62, 32)        9248      \n",
      "                                                                 \n",
      " max_pooling2d_5 (MaxPooling  (None, 31, 31, 32)       0         \n",
      " 2D)                                                             \n",
      "                                                                 \n",
      " dropout_6 (Dropout)         (None, 31, 31, 32)        0         \n",
      "                                                                 \n",
      " conv2d_12 (Conv2D)          (None, 31, 31, 64)        18496     \n",
      "                                                                 \n",
      " conv2d_13 (Conv2D)          (None, 29, 29, 64)        36928     \n",
      "                                                                 \n",
      " max_pooling2d_6 (MaxPooling  (None, 14, 14, 64)       0         \n",
      " 2D)                                                             \n",
      "                                                                 \n",
      " dropout_7 (Dropout)         (None, 14, 14, 64)        0         \n",
      "                                                                 \n",
      " flatten_2 (Flatten)         (None, 12544)             0         \n",
      "                                                                 \n",
      " dense_6 (Dense)             (None, 512)               6423040   \n",
      "                                                                 \n",
      " dense_7 (Dense)             (None, 256)               131328    \n",
      "                                                                 \n",
      " dropout_8 (Dropout)         (None, 256)               0         \n",
      "                                                                 \n",
      " dense_8 (Dense)             (None, 36)                9252      \n",
      "                                                                 \n",
      "=================================================================\n",
      "Total params: 6,629,188\n",
      "Trainable params: 6,629,188\n",
      "Non-trainable params: 0\n",
      "_________________________________________________________________\n"
     ]
    }
   ],
   "source": [
    "\n",
    "cnn.summary()"
   ]
  },
  {
   "cell_type": "code",
   "execution_count": 67,
   "metadata": {},
   "outputs": [
    {
     "name": "stdout",
     "output_type": "stream",
     "text": [
      "Epoch 1/32\n",
      "98/98 [==============================] - 32s 264ms/step - loss: 6.2424 - accuracy: 0.0305 - val_loss: 3.5680 - val_accuracy: 0.0513\n",
      "Epoch 2/32\n",
      "98/98 [==============================] - 27s 251ms/step - loss: 3.5495 - accuracy: 0.0417 - val_loss: 3.5135 - val_accuracy: 0.0769\n",
      "Epoch 3/32\n",
      "98/98 [==============================] - 27s 252ms/step - loss: 3.4407 - accuracy: 0.0623 - val_loss: 3.2284 - val_accuracy: 0.0997\n",
      "Epoch 4/32\n",
      "98/98 [==============================] - 27s 258ms/step - loss: 3.3002 - accuracy: 0.0735 - val_loss: 2.9436 - val_accuracy: 0.1823\n",
      "Epoch 5/32\n",
      "98/98 [==============================] - 27s 254ms/step - loss: 3.1290 - accuracy: 0.1043 - val_loss: 2.9146 - val_accuracy: 0.1624\n",
      "Epoch 6/32\n",
      "98/98 [==============================] - 27s 250ms/step - loss: 2.9812 - accuracy: 0.1493 - val_loss: 2.3622 - val_accuracy: 0.3647\n",
      "Epoch 7/32\n",
      "98/98 [==============================] - 27s 256ms/step - loss: 2.8662 - accuracy: 0.1772 - val_loss: 2.3468 - val_accuracy: 0.3903\n",
      "Epoch 8/32\n",
      "98/98 [==============================] - 27s 255ms/step - loss: 2.6606 - accuracy: 0.2324 - val_loss: 1.9362 - val_accuracy: 0.4786\n",
      "Epoch 9/32\n",
      "98/98 [==============================] - 27s 258ms/step - loss: 2.5337 - accuracy: 0.2742 - val_loss: 1.7915 - val_accuracy: 0.5413\n",
      "Epoch 10/32\n",
      "98/98 [==============================] - 27s 254ms/step - loss: 2.2963 - accuracy: 0.3281 - val_loss: 1.5828 - val_accuracy: 0.5584\n",
      "Epoch 11/32\n",
      "98/98 [==============================] - 27s 255ms/step - loss: 2.1289 - accuracy: 0.3852 - val_loss: 1.4165 - val_accuracy: 0.6410\n",
      "Epoch 12/32\n",
      "98/98 [==============================] - 27s 250ms/step - loss: 1.9201 - accuracy: 0.4331 - val_loss: 1.2151 - val_accuracy: 0.6724\n",
      "Epoch 13/32\n",
      "98/98 [==============================] - 26s 247ms/step - loss: 1.7638 - accuracy: 0.4732 - val_loss: 1.1659 - val_accuracy: 0.6838\n",
      "Epoch 14/32\n",
      "98/98 [==============================] - 27s 248ms/step - loss: 1.6751 - accuracy: 0.5165 - val_loss: 1.0568 - val_accuracy: 0.7208\n",
      "Epoch 15/32\n",
      "98/98 [==============================] - 27s 252ms/step - loss: 1.5081 - accuracy: 0.5531 - val_loss: 0.9690 - val_accuracy: 0.7464\n",
      "Epoch 16/32\n",
      "98/98 [==============================] - 30s 283ms/step - loss: 1.3772 - accuracy: 0.6003 - val_loss: 1.0707 - val_accuracy: 0.7293\n",
      "Epoch 17/32\n",
      "98/98 [==============================] - 29s 271ms/step - loss: 1.3542 - accuracy: 0.6144 - val_loss: 0.8402 - val_accuracy: 0.8034\n",
      "Epoch 18/32\n",
      "98/98 [==============================] - 29s 269ms/step - loss: 1.1856 - accuracy: 0.6584 - val_loss: 0.7755 - val_accuracy: 0.8006\n",
      "Epoch 19/32\n",
      "98/98 [==============================] - 28s 264ms/step - loss: 1.1278 - accuracy: 0.6700 - val_loss: 0.7271 - val_accuracy: 0.8120\n",
      "Epoch 20/32\n",
      "98/98 [==============================] - 26s 248ms/step - loss: 1.0512 - accuracy: 0.6960 - val_loss: 0.7262 - val_accuracy: 0.8262\n",
      "Epoch 21/32\n",
      "98/98 [==============================] - 27s 251ms/step - loss: 0.9926 - accuracy: 0.7101 - val_loss: 0.6338 - val_accuracy: 0.8490\n",
      "Epoch 22/32\n",
      "98/98 [==============================] - 27s 250ms/step - loss: 0.8957 - accuracy: 0.7448 - val_loss: 0.7398 - val_accuracy: 0.8462\n",
      "Epoch 23/32\n",
      "98/98 [==============================] - 26s 244ms/step - loss: 0.8352 - accuracy: 0.7637 - val_loss: 0.5856 - val_accuracy: 0.8775\n",
      "Epoch 24/32\n",
      "98/98 [==============================] - 27s 250ms/step - loss: 0.8781 - accuracy: 0.7512 - val_loss: 0.5411 - val_accuracy: 0.8917\n",
      "Epoch 25/32\n",
      "98/98 [==============================] - 26s 248ms/step - loss: 0.7872 - accuracy: 0.7817 - val_loss: 0.5836 - val_accuracy: 0.8860\n",
      "Epoch 26/32\n",
      "98/98 [==============================] - 27s 253ms/step - loss: 0.7136 - accuracy: 0.8006 - val_loss: 0.4719 - val_accuracy: 0.9031\n",
      "Epoch 27/32\n",
      "98/98 [==============================] - 27s 249ms/step - loss: 0.6468 - accuracy: 0.8061 - val_loss: 0.4838 - val_accuracy: 0.9031\n",
      "Epoch 28/32\n",
      "98/98 [==============================] - 26s 249ms/step - loss: 0.6489 - accuracy: 0.8189 - val_loss: 0.4974 - val_accuracy: 0.9088\n",
      "Epoch 29/32\n",
      "98/98 [==============================] - 27s 249ms/step - loss: 0.6324 - accuracy: 0.8164 - val_loss: 0.5158 - val_accuracy: 0.9031\n",
      "Epoch 30/32\n",
      "98/98 [==============================] - 26s 247ms/step - loss: 0.5687 - accuracy: 0.8305 - val_loss: 0.5276 - val_accuracy: 0.9145\n",
      "Epoch 31/32\n",
      "98/98 [==============================] - 26s 248ms/step - loss: 0.5581 - accuracy: 0.8421 - val_loss: 0.4695 - val_accuracy: 0.9174\n",
      "Epoch 32/32\n",
      "98/98 [==============================] - 27s 249ms/step - loss: 0.4664 - accuracy: 0.8632 - val_loss: 0.5296 - val_accuracy: 0.9202\n"
     ]
    }
   ],
   "source": [
    "training_history = cnn.fit(x=training_set,validation_data=validation_set,epochs=32)"
   ]
  },
  {
   "cell_type": "markdown",
   "metadata": {},
   "source": [
    "# Evaluating Model"
   ]
  },
  {
   "cell_type": "code",
   "execution_count": 68,
   "metadata": {},
   "outputs": [
    {
     "name": "stdout",
     "output_type": "stream",
     "text": [
      "98/98 [==============================] - 23s 215ms/step - loss: 0.2510 - accuracy: 0.9348\n",
      "Training accuracy: 0.934831440448761\n"
     ]
    }
   ],
   "source": [
    "\n",
    "#Training set Accuracy\n",
    "train_loss, train_acc = cnn.evaluate(training_set)\n",
    "print('Training accuracy:', train_acc)"
   ]
  },
  {
   "cell_type": "code",
   "execution_count": 69,
   "metadata": {},
   "outputs": [
    {
     "name": "stdout",
     "output_type": "stream",
     "text": [
      "11/11 [==============================] - 4s 67ms/step - loss: 0.5296 - accuracy: 0.9202\n",
      "Validation accuracy: 0.9202279448509216\n"
     ]
    }
   ],
   "source": [
    "\n",
    "#Validation set Accuracy\n",
    "val_loss, val_acc = cnn.evaluate(validation_set)\n",
    "print('Validation accuracy:', val_acc)"
   ]
  },
  {
   "cell_type": "code",
   "execution_count": 70,
   "metadata": {},
   "outputs": [],
   "source": [
    "cnn.save('trained_model.h5')"
   ]
  },
  {
   "cell_type": "code",
   "execution_count": 71,
   "metadata": {},
   "outputs": [
    {
     "data": {
      "text/plain": [
       "{'loss': [6.24244499206543,\n",
       "  3.5495166778564453,\n",
       "  3.440657377243042,\n",
       "  3.3001773357391357,\n",
       "  3.1290338039398193,\n",
       "  2.981243133544922,\n",
       "  2.8661773204803467,\n",
       "  2.660614490509033,\n",
       "  2.5337321758270264,\n",
       "  2.2963287830352783,\n",
       "  2.1289258003234863,\n",
       "  1.9200626611709595,\n",
       "  1.7638452053070068,\n",
       "  1.675062894821167,\n",
       "  1.508131980895996,\n",
       "  1.377238392829895,\n",
       "  1.3542335033416748,\n",
       "  1.1856356859207153,\n",
       "  1.1277565956115723,\n",
       "  1.0512036085128784,\n",
       "  0.9925603866577148,\n",
       "  0.895747721195221,\n",
       "  0.8352136015892029,\n",
       "  0.8781185746192932,\n",
       "  0.7871875762939453,\n",
       "  0.7136225700378418,\n",
       "  0.6468175649642944,\n",
       "  0.648862898349762,\n",
       "  0.63238126039505,\n",
       "  0.5687386393547058,\n",
       "  0.5581143498420715,\n",
       "  0.46636587381362915],\n",
       " 'accuracy': [0.030497591942548752,\n",
       "  0.041733548045158386,\n",
       "  0.062279295176267624,\n",
       "  0.07351525127887726,\n",
       "  0.10433387011289597,\n",
       "  0.1492776870727539,\n",
       "  0.1772070676088333,\n",
       "  0.23242375254631042,\n",
       "  0.27415731549263,\n",
       "  0.3280898928642273,\n",
       "  0.38523274660110474,\n",
       "  0.433065801858902,\n",
       "  0.4731942117214203,\n",
       "  0.5165328979492188,\n",
       "  0.553130030632019,\n",
       "  0.6003210544586182,\n",
       "  0.614446222782135,\n",
       "  0.6584269404411316,\n",
       "  0.6699839234352112,\n",
       "  0.6959871649742126,\n",
       "  0.7101123332977295,\n",
       "  0.7447832822799683,\n",
       "  0.7637239098548889,\n",
       "  0.7512038350105286,\n",
       "  0.7817014455795288,\n",
       "  0.8006420731544495,\n",
       "  0.806099534034729,\n",
       "  0.8189406394958496,\n",
       "  0.8163723945617676,\n",
       "  0.8304975628852844,\n",
       "  0.842054545879364,\n",
       "  0.8632423877716064],\n",
       " 'val_loss': [3.567996025085449,\n",
       "  3.513460874557495,\n",
       "  3.228408098220825,\n",
       "  2.943614959716797,\n",
       "  2.9145634174346924,\n",
       "  2.3622190952301025,\n",
       "  2.346811056137085,\n",
       "  1.9362022876739502,\n",
       "  1.7914979457855225,\n",
       "  1.582771897315979,\n",
       "  1.4164849519729614,\n",
       "  1.2151211500167847,\n",
       "  1.1658557653427124,\n",
       "  1.0568197965621948,\n",
       "  0.968956470489502,\n",
       "  1.0706837177276611,\n",
       "  0.8402380347251892,\n",
       "  0.7755250334739685,\n",
       "  0.7270958423614502,\n",
       "  0.7262337803840637,\n",
       "  0.6338129639625549,\n",
       "  0.7397797703742981,\n",
       "  0.5855866074562073,\n",
       "  0.5411213636398315,\n",
       "  0.5836144089698792,\n",
       "  0.471923291683197,\n",
       "  0.48380550742149353,\n",
       "  0.4973665475845337,\n",
       "  0.5158182978630066,\n",
       "  0.5275855660438538,\n",
       "  0.4694969952106476,\n",
       "  0.5296366214752197],\n",
       " 'val_accuracy': [0.05128205195069313,\n",
       "  0.07692307978868484,\n",
       "  0.09971509873867035,\n",
       "  0.18233618140220642,\n",
       "  0.16239316761493683,\n",
       "  0.36467236280441284,\n",
       "  0.39031338691711426,\n",
       "  0.47863247990608215,\n",
       "  0.5413105487823486,\n",
       "  0.5584045648574829,\n",
       "  0.6410256624221802,\n",
       "  0.6723646521568298,\n",
       "  0.6837607026100159,\n",
       "  0.7207977175712585,\n",
       "  0.74643874168396,\n",
       "  0.7293447256088257,\n",
       "  0.8034188151359558,\n",
       "  0.8005697727203369,\n",
       "  0.811965823173523,\n",
       "  0.8262107968330383,\n",
       "  0.8490028381347656,\n",
       "  0.8461538553237915,\n",
       "  0.8774929046630859,\n",
       "  0.8917378783226013,\n",
       "  0.8860399127006531,\n",
       "  0.9031339287757874,\n",
       "  0.9031339287757874,\n",
       "  0.9088318943977356,\n",
       "  0.9031339287757874,\n",
       "  0.9145299196243286,\n",
       "  0.9173789024353027,\n",
       "  0.9202279448509216]}"
      ]
     },
     "execution_count": 71,
     "metadata": {},
     "output_type": "execute_result"
    }
   ],
   "source": [
    "\n",
    "training_history.history #Return Dictionary of history"
   ]
  },
  {
   "cell_type": "code",
   "execution_count": 73,
   "metadata": {},
   "outputs": [],
   "source": [
    "\n",
    "#Recording History in json\n",
    "import json\n",
    "with open('training_hist.json','w') as f:\n",
    "  json.dump(training_history.history,f)"
   ]
  },
  {
   "cell_type": "code",
   "execution_count": 74,
   "metadata": {},
   "outputs": [
    {
     "name": "stdout",
     "output_type": "stream",
     "text": [
      "dict_keys(['loss', 'accuracy', 'val_loss', 'val_accuracy'])\n"
     ]
    }
   ],
   "source": [
    "\n",
    "print(training_history.history.keys())"
   ]
  },
  {
   "cell_type": "code",
   "execution_count": 75,
   "metadata": {},
   "outputs": [
    {
     "name": "stdout",
     "output_type": "stream",
     "text": [
      "Validation set Accuracy: 92.02279448509216 %\n"
     ]
    }
   ],
   "source": [
    "print(\"Validation set Accuracy: {} %\".format(training_history.history['val_accuracy'][-1]*100))\n"
   ]
  },
  {
   "cell_type": "markdown",
   "metadata": {},
   "source": [
    "# Accuracy Visualization"
   ]
  },
  {
   "cell_type": "markdown",
   "metadata": {},
   "source": [
    "Training Visualization"
   ]
  },
  {
   "cell_type": "code",
   "execution_count": 76,
   "metadata": {},
   "outputs": [
    {
     "data": {
      "image/png": "[encoded data removed]",
      "text/plain": [
       "<Figure size 640x480 with 1 Axes>"
      ]
     },
     "metadata": {},
     "output_type": "display_data"
    }
   ],
   "source": [
    "\n",
    "epochs = [i for i in range(1,33)]\n",
    "plt.plot(epochs,training_history.history['accuracy'],color='red')\n",
    "plt.xlabel('No. of Epochs')\n",
    "plt.ylabel('Traiining Accuracy')\n",
    "plt.title('Visualization of Training Accuracy Result')\n",
    "plt.show()"
   ]
  },
  {
   "cell_type": "code",
   "execution_count": 77,
   "metadata": {},
   "outputs": [
    {
     "data": {
      "image/png": "[encoded data removed]",
      "text/plain": [
       "<Figure size 640x480 with 1 Axes>"
      ]
     },
     "metadata": {},
     "output_type": "display_data"
    }
   ],
   "source": [
    "\n",
    "plt.plot(epochs,training_history.history['val_accuracy'],color='blue')\n",
    "plt.xlabel('No. of Epochs')\n",
    "plt.ylabel('Validation Accuracy')\n",
    "plt.title('Visualization of Validation Accuracy Result')\n",
    "plt.show()"
   ]
  },
  {
   "cell_type": "code",
   "execution_count": 78,
   "metadata": {},
   "outputs": [
    {
     "name": "stdout",
     "output_type": "stream",
     "text": [
      "Found 359 files belonging to 36 classes.\n"
     ]
    }
   ],
   "source": [
    "test_set = tf.keras.utils.image_dataset_from_directory(\n",
    "    'test',\n",
    "    labels=\"inferred\",\n",
    "    label_mode=\"categorical\",\n",
    "    class_names=None,\n",
    "    color_mode=\"rgb\",\n",
    "    batch_size=32,\n",
    "    image_size=(64, 64),\n",
    "    shuffle=True,\n",
    "    seed=None,\n",
    "    validation_split=None,\n",
    "    subset=None,\n",
    "    interpolation=\"bilinear\",\n",
    "    follow_links=False,\n",
    "    crop_to_aspect_ratio=False\n",
    ")"
   ]
  },
  {
   "cell_type": "code",
   "execution_count": 79,
   "metadata": {},
   "outputs": [
    {
     "name": "stdout",
     "output_type": "stream",
     "text": [
      "12/12 [==============================] - 4s 104ms/step - loss: 0.5217 - accuracy: 0.9220\n",
      "Test accuracy: 0.9220055937767029\n"
     ]
    }
   ],
   "source": [
    "test_loss,test_acc = cnn.evaluate(test_set)\n",
    "print('Test accuracy:', test_acc)"
   ]
  },
  {
   "cell_type": "code",
   "execution_count": null,
   "metadata": {},
   "outputs": [],
   "source": []
  }
 ],
 "metadata": {
  "kernelspec": {
   "display_name": "tf",
   "language": "python",
   "name": "python3"
  },
  "language_info": {
   "codemirror_mode": {
    "name": "ipython",
    "version": 3
   },
   "file_extension": ".py",
   "mimetype": "text/x-python",
   "name": "python",
   "nbconvert_exporter": "python",
   "pygments_lexer": "ipython3",
   "version": "3.9.21"
  }
 },
 "nbformat": 4,
 "nbformat_minor": 2
}
